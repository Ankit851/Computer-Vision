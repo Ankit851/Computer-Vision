{
 "cells": [
  {
   "cell_type": "code",
   "execution_count": 4,
   "metadata": {},
   "outputs": [],
   "source": [
    "import cv2\n",
    "import numpy\n",
    "\n",
    "photo = cv2.imread('webcam.jpg')\n",
    "cv2.imshow('img', photo )\n",
    "cv2.waitKey()\n",
    "cv2.destroyAllWindows()\n",
    "\n",
    "photo\n",
    "\n",
    "photo.shape #3d array\n",
    "\n",
    "#cropping image ; doing operation on array\n",
    "cropped=photo[50:500, 100:400]\n",
    "\n",
    "cropped.shape\n",
    "\n",
    "photo = cv2.imread('webcam.jpg')\n",
    "cv2.imshow('img', cropped )\n",
    "cv2.waitKey()\n",
    "cv2.destroyAllWindows()\n",
    "\n",
    "blankphoto=numpy.zeros((1000,1000))\n",
    "\n",
    "cv2.imshow('eye', blankphoto )\n",
    "cv2.waitKey()\n",
    "cv2.destroyAllWindows()\n",
    "\n",
    "filter=cv2.cvtColor(cropped, cv2.COLOR_BGR2GRAY)\n",
    "\n",
    "cv2.imshow('eye', filter )\n",
    "cv2.waitKey()\n",
    "cv2.destroyAllWindows()"
   ]
  }
 ],
 "metadata": {
  "kernelspec": {
   "display_name": "Python 3",
   "language": "python",
   "name": "python3"
  },
  "language_info": {
   "codemirror_mode": {
    "name": "ipython",
    "version": 3
   },
   "file_extension": ".py",
   "mimetype": "text/x-python",
   "name": "python",
   "nbconvert_exporter": "python",
   "pygments_lexer": "ipython3",
   "version": "3.8.3"
  }
 },
 "nbformat": 4,
 "nbformat_minor": 4
}
