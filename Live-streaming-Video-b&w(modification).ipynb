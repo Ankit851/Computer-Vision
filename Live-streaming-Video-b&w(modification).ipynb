{
 "cells": [
  {
   "cell_type": "code",
   "execution_count": 5,
   "metadata": {},
   "outputs": [],
   "source": [
    "# importing cv2 \n",
    "import cv2"
   ]
  },
  {
   "cell_type": "code",
   "execution_count": 6,
   "metadata": {},
   "outputs": [],
   "source": [
    "# Connecting to Webcam\n",
    "cap = cv2.VideoCapture(0)"
   ]
  },
  {
   "cell_type": "code",
   "execution_count": 7,
   "metadata": {},
   "outputs": [],
   "source": [
    "# Starting the loop\n",
    "# imshow is for opening the photograph using python\n",
    "# waitKey is used for holding the pic\n",
    "# destroyALLWindows helps us to close the photograph Window\n",
    "# read function clicks photo\n",
    "while True:\n",
    "    ret,photo = cap.read()\n",
    "    # Crop the Video\n",
    "    cropped_video=photo[100:400,50:350]\n",
    "    # Converting to Black and White video\n",
    "    filter=cv2.cvtColor(cropped_video,cv2.COLOR_BGR2GRAY)\n",
    "    cv2.imshow('hi',filter)\n",
    "    if cv2.waitKey(10) == 13:\n",
    "        break\n",
    "cv2.destroyAllWindows()\n",
    "    \n",
    "    \n"
   ]
  },
  {
   "cell_type": "code",
   "execution_count": 8,
   "metadata": {},
   "outputs": [],
   "source": [
    "# For Shutting off the Camera\n",
    "cap.release()"
   ]
  }
 ],
 "metadata": {
  "kernelspec": {
   "display_name": "Python 3",
   "language": "python",
   "name": "python3"
  },
  "language_info": {
   "codemirror_mode": {
    "name": "ipython",
    "version": 3
   },
   "file_extension": ".py",
   "mimetype": "text/x-python",
   "name": "python",
   "nbconvert_exporter": "python",
   "pygments_lexer": "ipython3",
   "version": "3.8.3"
  }
 },
 "nbformat": 4,
 "nbformat_minor": 4
}
