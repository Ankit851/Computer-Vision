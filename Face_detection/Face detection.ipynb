{
 "cells": [
  {
   "cell_type": "code",
   "execution_count": 6,
   "metadata": {},
   "outputs": [],
   "source": [
    "# importing cv2\n",
    "# importing numpy\n",
    "import cv2\n",
    "import numpy"
   ]
  },
  {
   "cell_type": "code",
   "execution_count": 7,
   "metadata": {},
   "outputs": [],
   "source": [
    "# Connecting to Webcam\n",
    "cap = cv2.VideoCapture(0)"
   ]
  },
  {
   "cell_type": "code",
   "execution_count": 8,
   "metadata": {},
   "outputs": [],
   "source": [
    "# Loading the model\n",
    "model=cv2.CascadeClassifier('haarcascade_frontalface_default.xml')"
   ]
  },
  {
   "cell_type": "code",
   "execution_count": 9,
   "metadata": {},
   "outputs": [],
   "source": [
    "# Starting the loop\n",
    "# imshow is for opening the photograph using python\n",
    "# waitKey is used for holding the pic\n",
    "# destroyALLWindows helps us to close the photograph Window\n",
    "# read function clicks photo\n",
    "while True:\n",
    "    ret, photo = cap.read()\n",
    "    faces = model.detectMultiScale(photo)\n",
    "    if len(faces) == 0:\n",
    "        pass\n",
    "    else:\n",
    "        x1=faces[0][0]\n",
    "        y1=faces[0][1]\n",
    "        x2=x1 + faces[0][2]\n",
    "        y2=y1 + faces[0][3]\n",
    "    \n",
    "        new_photo = cv2.rectangle(photo, (x1,y1), (x2,y2), [0,255,0], 5)\n",
    "        cv2.imshow('hi', new_photo)\n",
    "        if cv2.waitKey(10) == 13:\n",
    "            break\n",
    "\n",
    "cv2.destroyAllWindows()"
   ]
  },
  {
   "cell_type": "code",
   "execution_count": 10,
   "metadata": {},
   "outputs": [],
   "source": [
    "# For Disconnecting the WebCam\n",
    "cap.release()"
   ]
  }
 ],
 "metadata": {
  "kernelspec": {
   "display_name": "Python 3",
   "language": "python",
   "name": "python3"
  },
  "language_info": {
   "codemirror_mode": {
    "name": "ipython",
    "version": 3
   },
   "file_extension": ".py",
   "mimetype": "text/x-python",
   "name": "python",
   "nbconvert_exporter": "python",
   "pygments_lexer": "ipython3",
   "version": "3.8.3"
  }
 },
 "nbformat": 4,
 "nbformat_minor": 4
}
