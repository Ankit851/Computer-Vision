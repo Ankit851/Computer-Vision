# importing cv2
# importing numpy

import cv2
import numpy

# Connecting to Webcam
cap = cv2.VideoCapture(0)

# Loading the model
model=cv2.CascadeClassifier('haarcascade_frontalface_default.xml')

# Starting the loop
# imshow is for opening the photograph using python
# waitKey is used for holding the pic
# destroyALLWindows helps us to close the photograph Window
# read function clicks photo
while True:
    ret, photo = cap.read()
    faces = model.detectMultiScale(photo)
    if len(faces) == 0:
        pass
    else:
        x1=faces[0][0]
        y1=faces[0][1]
        x2=x1 + faces[0][2]
        y2=y1 + faces[0][3]

        new_photo = cv2.rectangle(photo, (x1,y1), (x2,y2), [0,255,0], 5)
        cv2.imshow('hi', new_photo)
        if cv2.waitKey(10) == 13:
            break

cv2.destroyAllWindows()

# For Disconnecting the WebCam
cap.release()
